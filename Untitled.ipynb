{
 "cells": [
  {
   "cell_type": "code",
   "execution_count": 1,
   "metadata": {},
   "outputs": [
    {
     "name": "stdout",
     "output_type": "stream",
     "text": [
      "Por favor ingrese su edad: 12\n",
      "No puede tomar cerveza \n"
     ]
    }
   ],
   "source": [
    "edad = int(input(\"Por favor ingrese su edad: \"))\n",
    "\n",
    "if edad >= 18:\n",
    "    print(\"Puede tomar cerveza \")\n",
    "else:\n",
    "    print(\"No puede tomar cerveza \")"
   ]
  },
  {
   "cell_type": "code",
   "execution_count": 6,
   "metadata": {},
   "outputs": [
    {
     "name": "stdout",
     "output_type": "stream",
     "text": [
      "Ingrese la marca:AGUILA\n",
      "compro AGUILA\n"
     ]
    }
   ],
   "source": [
    "marca = input(\"Ingrese la marca:\" )\n",
    "if marca.lower() == \"budweiser\":  #lower, me pasa la informacion a minuscula. \n",
    "    print(\"Compro\" , marca)\n",
    "elif marca.lower() == \"aguila\":\n",
    "    print(\"compro\", marca)\n",
    "else:\n",
    "    print(\"No compro nada\")"
   ]
  },
  {
   "cell_type": "code",
   "execution_count": null,
   "metadata": {},
   "outputs": [],
   "source": [
    "giro =\"carrera 9\"\n",
    "if giro == \"carrera 9\":\n",
    "    print(\"Girar en la\", giro)\n",
    "if giro == \"carrera 10\":\n",
    "    print(\"Girar en la\", giro)\n",
    "if giro == \"carrera 11\":\n",
    "    print(\"Girar en la\", giro)\n",
    "    "
   ]
  },
  {
   "cell_type": "code",
   "execution_count": null,
   "metadata": {},
   "outputs": [],
   "source": [
    "a = float(input(\"ingrese el numero A: \"))\n",
    "a = float(input(\"ingrese el numero B: \"))\n",
    "opc= input(\" ingrese el numero b: \")\n",
    "\n",
    "if opc =='+':\n",
    "    c = a + b\n",
    "if opc == '-':\n",
    "    c = a - b\n",
    "if opc == '*':\n",
    "    c = a * b\n",
    "    print(c)\n",
    "\n"
   ]
  },
  {
   "cell_type": "code",
   "execution_count": null,
   "metadata": {},
   "outputs": [],
   "source": []
  }
 ],
 "metadata": {
  "kernelspec": {
   "display_name": "Python 3",
   "language": "python",
   "name": "python3"
  },
  "language_info": {
   "codemirror_mode": {
    "name": "ipython",
    "version": 3
   },
   "file_extension": ".py",
   "mimetype": "text/x-python",
   "name": "python",
   "nbconvert_exporter": "python",
   "pygments_lexer": "ipython3",
   "version": "3.8.3"
  }
 },
 "nbformat": 4,
 "nbformat_minor": 4
}
